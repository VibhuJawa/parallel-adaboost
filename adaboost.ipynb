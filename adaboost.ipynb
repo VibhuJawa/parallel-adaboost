{
 "cells": [
  {
   "cell_type": "code",
   "execution_count": 303,
   "metadata": {},
   "outputs": [
    {
     "name": "stdout",
     "output_type": "stream",
     "text": [
      "Populating the interactive namespace from numpy and matplotlib\n"
     ]
    },
    {
     "name": "stderr",
     "output_type": "stream",
     "text": [
      "/Users/jawa/anaconda2/envs/eff_treat/lib/python3.6/site-packages/IPython/core/magics/pylab.py:160: UserWarning: pylab import has clobbered these variables: ['clf']\n",
      "`%matplotlib` prevents importing * from pylab and numpy\n",
      "  \"\\n`%matplotlib` prevents importing * from pylab and numpy\"\n"
     ]
    }
   ],
   "source": [
    "%pylab inline\n",
    "from sklearn import datasets\n",
    "import numpy as np\n",
    "import pandas as pd"
   ]
  },
  {
   "cell_type": "code",
   "execution_count": 397,
   "metadata": {},
   "outputs": [],
   "source": []
  },
  {
   "cell_type": "code",
   "execution_count": 398,
   "metadata": {},
   "outputs": [],
   "source": [
    "x,y = datasets.make_classification(n_samples=1000, n_features=200)\n",
    "y[y==0]=-1\n",
    "pd.DataFrame(x).to_csv('adaboost/mnist_data.csv',index=False,header=False)\n",
    "pd.DataFrame(y).to_csv('adaboost/mnist_label.csv',index=False,header=False)"
   ]
  },
  {
   "cell_type": "code",
   "execution_count": 338,
   "metadata": {
    "collapsed": true
   },
   "outputs": [],
   "source": [
    "weights = np.ones(y.size)/len(y)"
   ]
  },
  {
   "cell_type": "code",
   "execution_count": 339,
   "metadata": {},
   "outputs": [
    {
     "data": {
      "image/png": "[encoded data removed]",
      "text/plain": [
       "<matplotlib.figure.Figure at 0x1a20cfb2b0>"
      ]
     },
     "metadata": {},
     "output_type": "display_data"
    }
   ],
   "source": [
    "scatter(x[:,0], x[:,1], c=y, cmap=cm.brg, alpha=0.5)\n",
    "xlabel(iris.feature_names[0]);\n",
    "ylabel(iris.feature_names[1]);"
   ]
  },
  {
   "cell_type": "markdown",
   "metadata": {},
   "source": [
    "## Gini Index formula\n",
    "gini_index = sum(proportion * (1.0 - proportion))\n",
    "\n",
    "gini_index = 1.0 - sum(proportion * proportion)"
   ]
  },
  {
   "cell_type": "code",
   "execution_count": 155,
   "metadata": {
    "collapsed": true
   },
   "outputs": [],
   "source": [
    "# Big-O(l*n)\n",
    "def gini_index(groups_and_weights, labels):\n",
    "    groups = groups_and_weights[0]\n",
    "    weights = groups_and_weights[1]\n",
    "    \n",
    "    n = float(sum([(len(group)) for group in groups]))\n",
    "    gini = 0.0\n",
    "    \n",
    "    for wt_idx, group in enumerate(groups):\n",
    "        size = float(len(group))\n",
    "        wt_of_group = sum([i for i in weights[wt_idx]])\n",
    "        if size == 0:\n",
    "            continue\n",
    "        score = 0.0\n",
    "        for label in labels:\n",
    "            p = 0.0\n",
    "            # Count the proportion of label in the given group\n",
    "            for i, row in enumerate(group):\n",
    "                if int(row[-1]) == int(label):\n",
    "                    p += weights[wt_idx][i] * 1/wt_of_group\n",
    "            score += p * p\n",
    "        gini += (1.0 - score) * wt_of_group\n",
    "    return gini"
   ]
  },
  {
   "cell_type": "code",
   "execution_count": 156,
   "metadata": {
    "collapsed": true
   },
   "outputs": [],
   "source": [
    "# Big-O(n)\n",
    "def create_split(dataset, index, value, weight):\n",
    "    left = []\n",
    "    leftweight = []\n",
    "    right = []\n",
    "    rightweight = []\n",
    "    for i, point in enumerate(dataset):\n",
    "        if point[index] > value:\n",
    "            right.append(point)\n",
    "            rightweight.append(weight[i])\n",
    "        else:\n",
    "            left.append(point)\n",
    "            leftweight.append(weight[i])\n",
    "    return ((left, right), (leftweight, rightweight))"
   ]
  },
  {
   "cell_type": "code",
   "execution_count": 159,
   "metadata": {
    "collapsed": true
   },
   "outputs": [],
   "source": [
    "def find_best_split(dataset, weights):\n",
    "    best_g, best_index, best_value = 9999, 9999, 9999\n",
    "    for feature_index in range(len(dataset[0])-1):\n",
    "        for row in dataset:\n",
    "            g = (gini_index(create_split(dataset, feature_index, row[feature_index], weights),[0,1]))\n",
    "            if best_g > g:\n",
    "                best_index = feature_index\n",
    "                best_value = row[feature_index]\n",
    "                best_g = g\n",
    "                \n",
    "    return best_g, best_index, best_value"
   ]
  },
  {
   "cell_type": "code",
   "execution_count": 227,
   "metadata": {
    "collapsed": true
   },
   "outputs": [],
   "source": [
    "lass DecisionTree():\n",
    "    def __init__(self):\n",
    "        self.index = None\n",
    "        self.threshold = None\n",
    "        self.index = None\n",
    "        self.threshold = None\n",
    "        self.gini_coeff = None\n",
    "\n",
    "    # Big-O(l*n)\n",
    "    def gini_index(self, groups_and_weights, labels):\n",
    "        groups = groups_and_weights[0]\n",
    "        weights = groups_and_weights[1]\n",
    "\n",
    "        n = float(sum([(len(group)) for group in groups]))\n",
    "        gini = 0.0\n",
    "\n",
    "        for wt_idx, group in enumerate(groups):\n",
    "            size = float(len(group))\n",
    "            wt_of_group = sum([i for i in weights[wt_idx]])\n",
    "            if size == 0:\n",
    "                continue\n",
    "            score = 0.0\n",
    "            for label in labels:\n",
    "                p = 0.0\n",
    "                # Count the proportion of label in the given group\n",
    "                for i, row in enumerate(group):\n",
    "                    if int(row[-1]) == int(label):\n",
    "                        p += weights[wt_idx][i] * 1/wt_of_group\n",
    "                score += p * p\n",
    "            gini += (1.0 - score) * wt_of_group\n",
    "        return gini\n",
    "    \n",
    "    # Big-O(n)\n",
    "    def create_split(self, dataset, index, value, weight):\n",
    "        left = []\n",
    "        leftweight = []\n",
    "        right = []\n",
    "        rightweight = []\n",
    "        for i, point in enumerate(dataset):\n",
    "            if point[index] > value:\n",
    "                right.append(point)\n",
    "                rightweight.append(weight[i])\n",
    "            else:\n",
    "                left.append(point)\n",
    "                leftweight.append(weight[i])\n",
    "        return ((left, right), (leftweight, rightweight))\n",
    "    \n",
    "    def fit(self, dataset, weights = None):\n",
    "        if weights is None:\n",
    "            weights = np.ones(len(dataset))/len(dataset)\n",
    "        best_g, best_index, best_value = 9999, 9999, 9999\n",
    "        labels = np.unique(dataset[:,2])\n",
    "        for feature_index in range(len(dataset[0])-1):\n",
    "            for row in dataset:\n",
    "                left_right_split = self.create_split(dataset, feature_index, row[feature_index], weights)\n",
    "                g = (self.gini_index(left_right_split, labels))\n",
    "                if best_g > g:\n",
    "                    best_split = left_right_split\n",
    "                    best_index = feature_index\n",
    "                    best_value = row[feature_index]\n",
    "                    best_g = g\n",
    "        left_best_split = best_split[0][0]\n",
    "        right_best_split = best_split[0][1]\n",
    "        print((left_best_split[-1]))\n",
    "        \n",
    "        # TODO add functionalty to add the sign to self\n",
    "        # if x > y then positive or x < y then positive\n",
    "        self.index = best_index\n",
    "        self.threshold = best_value\n",
    "        self.gini_coeff = best_g\n",
    "        return best_g, best_index, best_value\n",
    "    \n",
    "    def predict(self, X, has_labels = True, weight = None):\n",
    "        if weight is None:\n",
    "            weights = np.ones(len(X))/len(X)\n",
    "        if has_labels:\n",
    "            x = XY[:,:-1]\n",
    "        print(x[:, self.index] > self.threshold)"
   ]
  },
  {
   "cell_type": "code",
   "execution_count": 17,
   "metadata": {
    "collapsed": true
   },
   "outputs": [],
   "source": [
    "# github code"
   ]
  },
  {
   "cell_type": "code",
   "execution_count": 160,
   "metadata": {},
   "outputs": [
    {
     "data": {
      "text/plain": [
       "Text(0.5,1,'Original data')"
      ]
     },
     "execution_count": 160,
     "metadata": {},
     "output_type": "execute_result"
    },
    {
     "data": {
      "image/png": "[encoded data removed]",
      "text/plain": [
       "<matplotlib.figure.Figure at 0x1a1b356160>"
      ]
     },
     "metadata": {},
     "output_type": "display_data"
    }
   ],
   "source": [
    "T = 3\n",
    "dim = 1\n",
    "N = 5\n",
    "\n",
    "x = np.asarray([10,30,40,60,90]).reshape(-1,1)\n",
    "label = np.asarray([1,1,0,0,1])\n",
    "\n",
    "pos1 = np.nonzero(label == 1)\n",
    "pos2 = np.where(label == 0)\n",
    "label[pos2] = -1\n",
    "# Plot the data\n",
    "\n",
    "plt.figure()\n",
    "plt.plot(x[pos1].flatten(),[0]*3,'b*')\n",
    "plt.plot(x[pos2].flatten(),[0]*2,'r*')\n",
    "plt.title(\"Original data\")"
   ]
  },
  {
   "cell_type": "code",
   "execution_count": 161,
   "metadata": {},
   "outputs": [
    {
     "data": {
      "text/plain": [
       "array([10, 30, 90])"
      ]
     },
     "execution_count": 161,
     "metadata": {},
     "output_type": "execute_result"
    }
   ],
   "source": [
    "x[pos1].flatten()"
   ]
  },
  {
   "cell_type": "code",
   "execution_count": 162,
   "metadata": {
    "collapsed": true
   },
   "outputs": [],
   "source": [
    "temp = np.zeros(N, dtype=np.int64)\n",
    "\n",
    "\n",
    "# Returns error and calculated labels corresponding to\n",
    "def weakClassifier_error(i, j, k, x, weight, label):\n",
    "                                                # threshold i\n",
    "                                                # dimension j\n",
    "                                                # sign k on dataset x.\n",
    "                                                # Original labels are stored in\n",
    "                                                # label\n",
    "\n",
    "    temp_err = np.float64(0)\n",
    "    # Initialise actual and expected labels to a perfect match( 0 = match , 1\n",
    "    # = not a match)\n",
    "    y = np.zeros(N, dtype=np.int64)\n",
    "\n",
    "    if(k == 1):\n",
    "        temp = (x[:, j] >= i)\n",
    "    else:\n",
    "        temp = (x[:, j] < i)\n",
    "\n",
    "    temp = np.int64(temp)\n",
    "    temp[np.where(temp == 0)] = -1\n",
    "    y = np.int64(temp != label)\n",
    "    # Calculate error of this weak classifier on the weighted dataset\n",
    "    temp_err = np.sum(y * weight)\n",
    "\n",
    "    return [temp_err, y]"
   ]
  },
  {
   "cell_type": "code",
   "execution_count": 163,
   "metadata": {
    "collapsed": true
   },
   "outputs": [],
   "source": [
    "threshold = [(x[i][0]+x[i+1][0])/2 for i in range(0,len(x)-1)]"
   ]
  },
  {
   "cell_type": "code",
   "execution_count": 164,
   "metadata": {},
   "outputs": [
    {
     "data": {
      "text/plain": [
       "[20.0, 35.0, 50.0, 75.0]"
      ]
     },
     "execution_count": 164,
     "metadata": {},
     "output_type": "execute_result"
    }
   ],
   "source": [
    "threshold"
   ]
  },
  {
   "cell_type": "code",
   "execution_count": 165,
   "metadata": {},
   "outputs": [
    {
     "name": "stdout",
     "output_type": "stream",
     "text": [
      "[0.125 0.125 0.125 0.125 0.5  ]\n",
      "[0.08333333 0.08333333 0.25       0.25       0.33333333]\n",
      "[0.25 0.25 0.15 0.15 0.2 ]\n"
     ]
    }
   ],
   "source": [
    "# Actual program begins\n",
    "\n",
    "# h and alpha together completely specify the final strong classifier\n",
    "h = np.zeros([T, 3], dtype=np.float64)\n",
    "alpha = np.zeros(T, dtype=np.float64)\n",
    "\n",
    "threshold = x\n",
    "\n",
    "weight = np.ones(N, dtype=np.float64) / (N)  # Initialise weights\n",
    "\n",
    "# Initially set error to infinity, to allow comparing with error of classifiers\n",
    "err = np.ones(T, dtype=np.float64) * np.inf\n",
    "\n",
    "for t in range(T):\n",
    "    for i in threshold:\n",
    "        for j in range(dim):\n",
    "            for k in [-1, 1]:\n",
    "                [tmpe, y] = weakClassifier_error(i, j, k, x, weight, label)\n",
    "                if(tmpe < err[t]):  # storing the better classifier in h\n",
    "                    err[t] = tmpe\n",
    "                    y0 = y\n",
    "                    h[t][0] = i\n",
    "                    h[t][1] = int(j)\n",
    "                    h[t][2] = int(k)\n",
    "\n",
    "    if(err[t] > 0.5):\n",
    "        T = t\n",
    "        # We have run out of weak classifiers! So truncate the no: of\n",
    "        # iterations used\n",
    "        print(t, \"Error!\")\n",
    "        break\n",
    "\n",
    "    alpha[t] = 0.5 * np.log((1.0 - err[t]) / err[t])\n",
    "\n",
    "    # y0=0 corresponded to correctly labelled datapoints. To reassign weights,\n",
    "    y0[np.where(y0 == 0)] = -1\n",
    "    # we need -1 and not 0 at these positions\n",
    "\n",
    "    weight = np.float64(weight * np.exp(alpha[t] * y0))  # Reassign weights\n",
    "\n",
    "    weight = weight / np.sum(weight)  # Normalise reassigned weights\n",
    "    print(weight)"
   ]
  },
  {
   "cell_type": "code",
   "execution_count": 166,
   "metadata": {},
   "outputs": [
    {
     "data": {
      "text/plain": [
       "array([0.69314718, 0.54930614, 0.80471896])"
      ]
     },
     "execution_count": 166,
     "metadata": {},
     "output_type": "execute_result"
    }
   ],
   "source": [
    "alpha"
   ]
  },
  {
   "cell_type": "code",
   "execution_count": 167,
   "metadata": {},
   "outputs": [
    {
     "data": {
      "text/plain": [
       "array([[40.,  0., -1.],\n",
       "       [10.,  0.,  1.],\n",
       "       [90.,  0.,  1.]])"
      ]
     },
     "execution_count": 167,
     "metadata": {},
     "output_type": "execute_result"
    }
   ],
   "source": [
    "h"
   ]
  },
  {
   "cell_type": "code",
   "execution_count": 168,
   "metadata": {},
   "outputs": [
    {
     "data": {
      "text/plain": [
       "<matplotlib.figure.Figure at 0x1a1b2b5a90>"
      ]
     },
     "execution_count": 168,
     "metadata": {},
     "output_type": "execute_result"
    },
    {
     "data": {
      "text/plain": [
       "<matplotlib.figure.Figure at 0x1a1b2b5a90>"
      ]
     },
     "metadata": {},
     "output_type": "display_data"
    }
   ],
   "source": [
    "temp_sum = np.zeros(N, dtype=np.float64)\n",
    "temp = np.zeros(N, dtype=np.float64)\n",
    "final_label = np.zeros(N, dtype=np.float64)\n",
    "misshits = np.zeros(T)\n",
    "\n",
    "for t in range(T):  # Calculate final labels\n",
    "    temp = h[t][2] * np.sign(x[:, int(h[t][1])] - h[t][0])\n",
    "    temp_sum = np.float64(temp_sum + alpha[t] * temp)\n",
    "    final_label = np.sign(temp_sum)\n",
    "    misshits[t] = np.sum(np.float64(final_label != label)) / N\n",
    "\n",
    "\n",
    "# Now plot the generated labels\n",
    "pos1 = np.where(final_label == 1)\n",
    "pos2 = np.where(final_label == -1)\n",
    "\n",
    "plt.figure()\n",
    "# plt.plot(x[pos1].flatten(), [0]*5, 'b*')\n",
    "# plt.plot(x[pos2].flatten(), [0]*0, 'r*')\n",
    "# plt.axis([-3, 3, -3, 3])\n",
    "# plt.title(\"Generated data\")\n",
    "# plt.show()\n",
    "\n",
    "# # Plot miss hits when more and more weak learners are used\n",
    "# plt.figure()\n",
    "# plt.plot(misshits)\n",
    "# plt.ylabel('Miss hists')\n"
   ]
  },
  {
   "cell_type": "code",
   "execution_count": 169,
   "metadata": {},
   "outputs": [
    {
     "name": "stdout",
     "output_type": "stream",
     "text": [
      "[-1.  1. -1. -1. -1.]\n"
     ]
    }
   ],
   "source": [
    "print(final_label)"
   ]
  },
  {
   "cell_type": "code",
   "execution_count": 173,
   "metadata": {},
   "outputs": [
    {
     "data": {
      "text/plain": [
       "array([ 1,  1, -1, -1,  1])"
      ]
     },
     "execution_count": 173,
     "metadata": {},
     "output_type": "execute_result"
    }
   ],
   "source": [
    "label"
   ]
  },
  {
   "cell_type": "code",
   "execution_count": 170,
   "metadata": {},
   "outputs": [
    {
     "data": {
      "text/plain": [
       "array([10, 30, 40, 60, 90])"
      ]
     },
     "execution_count": 170,
     "metadata": {},
     "output_type": "execute_result"
    }
   ],
   "source": [
    "x[:,int(h[t][1])]"
   ]
  },
  {
   "cell_type": "code",
   "execution_count": 425,
   "metadata": {
    "collapsed": true
   },
   "outputs": [],
   "source": [
    "import sklearn.ensemble \n",
    "import graphviz\n",
    "from  sklearn import tree\n"
   ]
  },
  {
   "cell_type": "code",
   "execution_count": 426,
   "metadata": {},
   "outputs": [],
   "source": [
    "x,y = datasets.make_classification(n_samples=1000, n_features=200)\n",
    "y[y==0]=-1\n",
    "pd.DataFrame(x).to_csv('adaboost/mnist_data.csv',index=False,header=False)\n",
    "pd.DataFrame(y).to_csv('adaboost/mnist_label.csv',index=False,header=False)"
   ]
  },
  {
   "cell_type": "code",
   "execution_count": 446,
   "metadata": {
    "collapsed": true
   },
   "outputs": [],
   "source": [
    "clf = AdaBoostClassifier(DecisionTreeClassifier(max_depth=1,criterion = 'gini'),n_estimators=5)"
   ]
  },
  {
   "cell_type": "code",
   "execution_count": 456,
   "metadata": {},
   "outputs": [
    {
     "data": {
      "text/plain": [
       "AdaBoostClassifier(algorithm='SAMME.R',\n",
       "          base_estimator=DecisionTreeClassifier(class_weight=None, criterion='gini', max_depth=1,\n",
       "            max_features=None, max_leaf_nodes=None,\n",
       "            min_impurity_decrease=0.0, min_impurity_split=None,\n",
       "            min_samples_leaf=1, min_samples_split=2,\n",
       "            min_weight_fraction_leaf=0.0, presort=False, random_state=None,\n",
       "            splitter='best'),\n",
       "          learning_rate=1.0, n_estimators=5, random_state=None)"
      ]
     },
     "execution_count": 456,
     "metadata": {},
     "output_type": "execute_result"
    }
   ],
   "source": [
    "clf.fit(x,y)"
   ]
  },
  {
   "cell_type": "code",
   "execution_count": 460,
   "metadata": {},
   "outputs": [
    {
     "data": {
      "text/plain": [
       "array([1., 1., 1., 1., 1.])"
      ]
     },
     "execution_count": 460,
     "metadata": {},
     "output_type": "execute_result"
    }
   ],
   "source": [
    "clf.estimator_weights_"
   ]
  },
  {
   "cell_type": "code",
   "execution_count": 458,
   "metadata": {},
   "outputs": [
    {
     "data": {
      "text/plain": [
       "1.0"
      ]
     },
     "execution_count": 458,
     "metadata": {},
     "output_type": "execute_result"
    }
   ],
   "source": [
    "clf.estimator_weights_[1]"
   ]
  },
  {
   "cell_type": "code",
   "execution_count": 459,
   "metadata": {},
   "outputs": [
    {
     "data": {
      "text/plain": [
       "array([0.104     , 0.32801084, 0.42529764, 0.38568781, 0.42939296])"
      ]
     },
     "execution_count": 459,
     "metadata": {},
     "output_type": "execute_result"
    }
   ],
   "source": [
    "clf.estimator_errors_"
   ]
  },
  {
   "cell_type": "code",
   "execution_count": 461,
   "metadata": {},
   "outputs": [
    {
     "data": {
      "text/plain": [
       "0.892"
      ]
     },
     "execution_count": 461,
     "metadata": {},
     "output_type": "execute_result"
    }
   ],
   "source": [
    "clf.score(x,y)"
   ]
  },
  {
   "cell_type": "code",
   "execution_count": 452,
   "metadata": {},
   "outputs": [
    {
     "data": {
      "text/plain": [
       "DecisionTreeClassifier(class_weight=None, criterion='gini', max_depth=1,\n",
       "            max_features=None, max_leaf_nodes=None,\n",
       "            min_impurity_decrease=0.0, min_impurity_split=None,\n",
       "            min_samples_leaf=1, min_samples_split=2,\n",
       "            min_weight_fraction_leaf=0.0, presort=False,\n",
       "            random_state=1865016938, splitter='best')"
      ]
     },
     "execution_count": 452,
     "metadata": {},
     "output_type": "execute_result"
    }
   ],
   "source": [
    "clf.estimators_[0]"
   ]
  },
  {
   "cell_type": "code",
   "execution_count": 462,
   "metadata": {
    "collapsed": true
   },
   "outputs": [],
   "source": [
    "dot_data = tree.export_graphviz(clf.estimators_[0], out_file=None)\n",
    "graph = graphviz.Source(dot_data) "
   ]
  },
  {
   "cell_type": "code",
   "execution_count": 463,
   "metadata": {},
   "outputs": [
    {
     "data": {
      "image/svg+xml": [
       "<?xml version=\"1.0\" encoding=\"UTF-8\" standalone=\"no\"?>\n",
       "<!DOCTYPE svg PUBLIC \"-//W3C//DTD SVG 1.1//EN\"\n",
       " \"http://www.w3.org/Graphics/SVG/1.1/DTD/svg11.dtd\">\n",
       "<!-- Generated by graphviz version 2.40.1 (20161225.0304)\n",
       " -->\n",
       "<!-- Title: Tree Pages: 1 -->\n",
       "<svg width=\"242pt\" height=\"165pt\"\n",
       " viewBox=\"0.00 0.00 241.50 165.00\" xmlns=\"http://www.w3.org/2000/svg\" xmlns:xlink=\"http://www.w3.org/1999/xlink\">\n",
       "<g id=\"graph0\" class=\"graph\" transform=\"scale(1 1) rotate(0) translate(4 161)\">\n",
       "<title>Tree</title>\n",
       "<polygon fill=\"#ffffff\" stroke=\"transparent\" points=\"-4,4 -4,-161 237.5,-161 237.5,4 -4,4\"/>\n",
       "<!-- 0 -->\n",
       "<g id=\"node1\" class=\"node\">\n",
       "<title>0</title>\n",
       "<polygon fill=\"none\" stroke=\"#000000\" points=\"173,-157 63,-157 63,-89 173,-89 173,-157\"/>\n",
       "<text text-anchor=\"middle\" x=\"118\" y=\"-141.8\" font-family=\"Times,serif\" font-size=\"14.00\" fill=\"#000000\">X[37] &lt;= &#45;0.165</text>\n",
       "<text text-anchor=\"middle\" x=\"118\" y=\"-126.8\" font-family=\"Times,serif\" font-size=\"14.00\" fill=\"#000000\">gini = 0.5</text>\n",
       "<text text-anchor=\"middle\" x=\"118\" y=\"-111.8\" font-family=\"Times,serif\" font-size=\"14.00\" fill=\"#000000\">samples = 1000</text>\n",
       "<text text-anchor=\"middle\" x=\"118\" y=\"-96.8\" font-family=\"Times,serif\" font-size=\"14.00\" fill=\"#000000\">value = [0.502, 0.498]</text>\n",
       "</g>\n",
       "<!-- 1 -->\n",
       "<g id=\"node2\" class=\"node\">\n",
       "<title>1</title>\n",
       "<polygon fill=\"none\" stroke=\"#000000\" points=\"110,-53 0,-53 0,0 110,0 110,-53\"/>\n",
       "<text text-anchor=\"middle\" x=\"55\" y=\"-37.8\" font-family=\"Times,serif\" font-size=\"14.00\" fill=\"#000000\">gini = 0.175</text>\n",
       "<text text-anchor=\"middle\" x=\"55\" y=\"-22.8\" font-family=\"Times,serif\" font-size=\"14.00\" fill=\"#000000\">samples = 494</text>\n",
       "<text text-anchor=\"middle\" x=\"55\" y=\"-7.8\" font-family=\"Times,serif\" font-size=\"14.00\" fill=\"#000000\">value = [0.446, 0.048]</text>\n",
       "</g>\n",
       "<!-- 0&#45;&gt;1 -->\n",
       "<g id=\"edge1\" class=\"edge\">\n",
       "<title>0&#45;&gt;1</title>\n",
       "<path fill=\"none\" stroke=\"#000000\" d=\"M95.7886,-88.9777C90.0496,-80.187 83.8588,-70.7044 78.0767,-61.8477\"/>\n",
       "<polygon fill=\"#000000\" stroke=\"#000000\" points=\"80.8602,-59.7087 72.4627,-53.2485 74.9987,-63.5354 80.8602,-59.7087\"/>\n",
       "<text text-anchor=\"middle\" x=\"67.3241\" y=\"-74.0147\" font-family=\"Times,serif\" font-size=\"14.00\" fill=\"#000000\">True</text>\n",
       "</g>\n",
       "<!-- 2 -->\n",
       "<g id=\"node3\" class=\"node\">\n",
       "<title>2</title>\n",
       "<polygon fill=\"none\" stroke=\"#000000\" points=\"233.5,-53 128.5,-53 128.5,0 233.5,0 233.5,-53\"/>\n",
       "<text text-anchor=\"middle\" x=\"181\" y=\"-37.8\" font-family=\"Times,serif\" font-size=\"14.00\" fill=\"#000000\">gini = 0.197</text>\n",
       "<text text-anchor=\"middle\" x=\"181\" y=\"-22.8\" font-family=\"Times,serif\" font-size=\"14.00\" fill=\"#000000\">samples = 506</text>\n",
       "<text text-anchor=\"middle\" x=\"181\" y=\"-7.8\" font-family=\"Times,serif\" font-size=\"14.00\" fill=\"#000000\">value = [0.056, 0.45]</text>\n",
       "</g>\n",
       "<!-- 0&#45;&gt;2 -->\n",
       "<g id=\"edge2\" class=\"edge\">\n",
       "<title>0&#45;&gt;2</title>\n",
       "<path fill=\"none\" stroke=\"#000000\" d=\"M140.2114,-88.9777C145.9504,-80.187 152.1412,-70.7044 157.9233,-61.8477\"/>\n",
       "<polygon fill=\"#000000\" stroke=\"#000000\" points=\"161.0013,-63.5354 163.5373,-53.2485 155.1398,-59.7087 161.0013,-63.5354\"/>\n",
       "<text text-anchor=\"middle\" x=\"168.6759\" y=\"-74.0147\" font-family=\"Times,serif\" font-size=\"14.00\" fill=\"#000000\">False</text>\n",
       "</g>\n",
       "</g>\n",
       "</svg>\n"
      ],
      "text/plain": [
       "<graphviz.files.Source at 0x1a22828160>"
      ]
     },
     "execution_count": 463,
     "metadata": {},
     "output_type": "execute_result"
    }
   ],
   "source": [
    "graph"
   ]
  },
  {
   "cell_type": "code",
   "execution_count": 467,
   "metadata": {},
   "outputs": [
    {
     "data": {
      "image/svg+xml": [
       "<?xml version=\"1.0\" encoding=\"UTF-8\" standalone=\"no\"?>\n",
       "<!DOCTYPE svg PUBLIC \"-//W3C//DTD SVG 1.1//EN\"\n",
       " \"http://www.w3.org/Graphics/SVG/1.1/DTD/svg11.dtd\">\n",
       "<!-- Generated by graphviz version 2.40.1 (20161225.0304)\n",
       " -->\n",
       "<!-- Title: Tree Pages: 1 -->\n",
       "<svg width=\"246pt\" height=\"165pt\"\n",
       " viewBox=\"0.00 0.00 246.00 165.00\" xmlns=\"http://www.w3.org/2000/svg\" xmlns:xlink=\"http://www.w3.org/1999/xlink\">\n",
       "<g id=\"graph0\" class=\"graph\" transform=\"scale(1 1) rotate(0) translate(4 161)\">\n",
       "<title>Tree</title>\n",
       "<polygon fill=\"#ffffff\" stroke=\"transparent\" points=\"-4,4 -4,-161 242,-161 242,4 -4,4\"/>\n",
       "<!-- 0 -->\n",
       "<g id=\"node1\" class=\"node\">\n",
       "<title>0</title>\n",
       "<polygon fill=\"none\" stroke=\"#000000\" points=\"163.5,-157 74.5,-157 74.5,-89 163.5,-89 163.5,-157\"/>\n",
       "<text text-anchor=\"middle\" x=\"119\" y=\"-141.8\" font-family=\"Times,serif\" font-size=\"14.00\" fill=\"#000000\">X[37] &lt;= &#45;1.37</text>\n",
       "<text text-anchor=\"middle\" x=\"119\" y=\"-126.8\" font-family=\"Times,serif\" font-size=\"14.00\" fill=\"#000000\">gini = 0.5</text>\n",
       "<text text-anchor=\"middle\" x=\"119\" y=\"-111.8\" font-family=\"Times,serif\" font-size=\"14.00\" fill=\"#000000\">samples = 1000</text>\n",
       "<text text-anchor=\"middle\" x=\"119\" y=\"-96.8\" font-family=\"Times,serif\" font-size=\"14.00\" fill=\"#000000\">value = [0.5, 0.5]</text>\n",
       "</g>\n",
       "<!-- 1 -->\n",
       "<g id=\"node2\" class=\"node\">\n",
       "<title>1</title>\n",
       "<polygon fill=\"none\" stroke=\"#000000\" points=\"110,-53 0,-53 0,0 110,0 110,-53\"/>\n",
       "<text text-anchor=\"middle\" x=\"55\" y=\"-37.8\" font-family=\"Times,serif\" font-size=\"14.00\" fill=\"#000000\">gini = 0.106</text>\n",
       "<text text-anchor=\"middle\" x=\"55\" y=\"-22.8\" font-family=\"Times,serif\" font-size=\"14.00\" fill=\"#000000\">samples = 158</text>\n",
       "<text text-anchor=\"middle\" x=\"55\" y=\"-7.8\" font-family=\"Times,serif\" font-size=\"14.00\" fill=\"#000000\">value = [0.075, 0.004]</text>\n",
       "</g>\n",
       "<!-- 0&#45;&gt;1 -->\n",
       "<g id=\"edge1\" class=\"edge\">\n",
       "<title>0&#45;&gt;1</title>\n",
       "<path fill=\"none\" stroke=\"#000000\" d=\"M96.436,-88.9777C90.6059,-80.187 84.3169,-70.7044 78.443,-61.8477\"/>\n",
       "<polygon fill=\"#000000\" stroke=\"#000000\" points=\"81.1838,-59.6478 72.7399,-53.2485 75.3502,-63.5167 81.1838,-59.6478\"/>\n",
       "<text text-anchor=\"middle\" x=\"67.7783\" y=\"-74.0512\" font-family=\"Times,serif\" font-size=\"14.00\" fill=\"#000000\">True</text>\n",
       "</g>\n",
       "<!-- 2 -->\n",
       "<g id=\"node3\" class=\"node\">\n",
       "<title>2</title>\n",
       "<polygon fill=\"none\" stroke=\"#000000\" points=\"238,-53 128,-53 128,0 238,0 238,-53\"/>\n",
       "<text text-anchor=\"middle\" x=\"183\" y=\"-37.8\" font-family=\"Times,serif\" font-size=\"14.00\" fill=\"#000000\">gini = 0.497</text>\n",
       "<text text-anchor=\"middle\" x=\"183\" y=\"-22.8\" font-family=\"Times,serif\" font-size=\"14.00\" fill=\"#000000\">samples = 842</text>\n",
       "<text text-anchor=\"middle\" x=\"183\" y=\"-7.8\" font-family=\"Times,serif\" font-size=\"14.00\" fill=\"#000000\">value = [0.425, 0.496]</text>\n",
       "</g>\n",
       "<!-- 0&#45;&gt;2 -->\n",
       "<g id=\"edge2\" class=\"edge\">\n",
       "<title>0&#45;&gt;2</title>\n",
       "<path fill=\"none\" stroke=\"#000000\" d=\"M141.564,-88.9777C147.3941,-80.187 153.6831,-70.7044 159.557,-61.8477\"/>\n",
       "<polygon fill=\"#000000\" stroke=\"#000000\" points=\"162.6498,-63.5167 165.2601,-53.2485 156.8162,-59.6478 162.6498,-63.5167\"/>\n",
       "<text text-anchor=\"middle\" x=\"170.2217\" y=\"-74.0512\" font-family=\"Times,serif\" font-size=\"14.00\" fill=\"#000000\">False</text>\n",
       "</g>\n",
       "</g>\n",
       "</svg>\n"
      ],
      "text/plain": [
       "<graphviz.files.Source at 0x1a22828b70>"
      ]
     },
     "execution_count": 467,
     "metadata": {},
     "output_type": "execute_result"
    }
   ],
   "source": [
    "dot_data = tree.export_graphviz(clf.estimators_[4], out_file=None)\n",
    "graph = graphviz.Source(dot_data)\n",
    "graph"
   ]
  },
  {
   "cell_type": "code",
   "execution_count": 279,
   "metadata": {},
   "outputs": [
    {
     "ename": "NameError",
     "evalue": "name 'estimators_' is not defined",
     "output_type": "error",
     "traceback": [
      "\u001b[0;31m---------------------------------------------------------------------------\u001b[0m",
      "\u001b[0;31mNameError\u001b[0m                                 Traceback (most recent call last)",
      "\u001b[0;32m<ipython-input-279-fa6ae7657a12>\u001b[0m in \u001b[0;36m<module>\u001b[0;34m()\u001b[0m\n\u001b[0;32m----> 1\u001b[0;31m \u001b[0mestimators_\u001b[0m\u001b[0;34m\u001b[0m\u001b[0m\n\u001b[0m",
      "\u001b[0;31mNameError\u001b[0m: name 'estimators_' is not defined"
     ]
    }
   ],
   "source": []
  },
  {
   "cell_type": "code",
   "execution_count": null,
   "metadata": {
    "collapsed": true
   },
   "outputs": [],
   "source": []
  }
 ],
 "metadata": {
  "kernelspec": {
   "display_name": "Python 3",
   "language": "python",
   "name": "python3"
  },
  "language_info": {
   "codemirror_mode": {
    "name": "ipython",
    "version": 3
   },
   "file_extension": ".py",
   "mimetype": "text/x-python",
   "name": "python",
   "nbconvert_exporter": "python",
   "pygments_lexer": "ipython3",
   "version": "3.6.4"
  }
 },
 "nbformat": 4,
 "nbformat_minor": 2
}
