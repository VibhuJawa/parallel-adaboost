{
 "cells": [
  {
   "cell_type": "code",
   "execution_count": 131,
   "metadata": {},
   "outputs": [
    {
     "name": "stdout",
     "output_type": "stream",
     "text": [
      "Populating the interactive namespace from numpy and matplotlib\n"
     ]
    }
   ],
   "source": [
    "%pylab inline\n",
    "from sklearn import datasets\n",
    "import numpy as np"
   ]
  },
  {
   "cell_type": "code",
   "execution_count": 132,
   "metadata": {},
   "outputs": [],
   "source": [
    "iris = datasets.load_iris()\n",
    "x = iris['data'][iris['target'] != 2][:,:2]\n",
    "y = iris['target'][iris['target'] != 2]\n",
    "XY = np.hstack((x,y.reshape(len(y),1)))"
   ]
  },
  {
   "cell_type": "code",
   "execution_count": 133,
   "metadata": {},
   "outputs": [],
   "source": [
    "weights = np.ones(y.size)/len(y)"
   ]
  },
  {
   "cell_type": "code",
   "execution_count": 134,
   "metadata": {},
   "outputs": [
    {
     "data": {
      "image/png": "[encoded data removed]",
      "text/plain": [
       "<Figure size 432x288 with 1 Axes>"
      ]
     },
     "metadata": {},
     "output_type": "display_data"
    }
   ],
   "source": [
    "scatter(x[:,0], x[:,1], c=y, cmap=cm.brg, alpha=0.5)\n",
    "xlabel(iris.feature_names[0]);\n",
    "ylabel(iris.feature_names[1]);"
   ]
  },
  {
   "cell_type": "markdown",
   "metadata": {},
   "source": [
    "## Gini Index formula\n",
    "gini_index = sum(proportion * (1.0 - proportion))\n",
    "\n",
    "gini_index = 1.0 - sum(proportion * proportion)"
   ]
  },
  {
   "cell_type": "code",
   "execution_count": 155,
   "metadata": {},
   "outputs": [],
   "source": [
    "# Big-O(l*n)\n",
    "def gini_index(groups_and_weights, labels):\n",
    "    groups = groups_and_weights[0]\n",
    "    weights = groups_and_weights[1]\n",
    "    \n",
    "    n = float(sum([(len(group)) for group in groups]))\n",
    "    gini = 0.0\n",
    "    \n",
    "    for wt_idx, group in enumerate(groups):\n",
    "        size = float(len(group))\n",
    "        wt_of_group = sum([i for i in weights[wt_idx]])\n",
    "        if size == 0:\n",
    "            continue\n",
    "        score = 0.0\n",
    "        for label in labels:\n",
    "            p = 0.0\n",
    "            # Count the proportion of label in the given group\n",
    "            for i, row in enumerate(group):\n",
    "                if int(row[-1]) == int(label):\n",
    "                    p += weights[wt_idx][i] * 1/wt_of_group\n",
    "            score += p * p\n",
    "        gini += (1.0 - score) * wt_of_group\n",
    "    return gini"
   ]
  },
  {
   "cell_type": "code",
   "execution_count": 156,
   "metadata": {},
   "outputs": [],
   "source": [
    "# Big-O(n)\n",
    "def create_split(dataset, index, value, weight):\n",
    "    left = []\n",
    "    leftweight = []\n",
    "    right = []\n",
    "    rightweight = []\n",
    "    for i, point in enumerate(dataset):\n",
    "        if point[index] > value:\n",
    "            right.append(point)\n",
    "            rightweight.append(weight[i])\n",
    "        else:\n",
    "            left.append(point)\n",
    "            leftweight.append(weight[i])\n",
    "    return ((left, right), (leftweight, rightweight))"
   ]
  },
  {
   "cell_type": "code",
   "execution_count": 159,
   "metadata": {},
   "outputs": [],
   "source": [
    "def find_best_split(dataset, weights):\n",
    "    best_g, best_index, best_value = 9999, 9999, 9999\n",
    "    for feature_index in range(len(dataset[0])-1):\n",
    "        for row in dataset:\n",
    "            g = (gini_index(create_split(dataset, feature_index, row[feature_index], weights),[0,1]))\n",
    "            if best_g > g:\n",
    "                best_index = feature_index\n",
    "                best_value = row[feature_index]\n",
    "                best_g = g\n",
    "                \n",
    "    return best_g, best_index, best_value"
   ]
  },
  {
   "cell_type": "code",
   "execution_count": 227,
   "metadata": {},
   "outputs": [],
   "source": [
    "class DecisionTree():\n",
    "    def __init__(self):\n",
    "        self.index = None\n",
    "        self.threshold = None\n",
    "        self.index = None\n",
    "        self.threshold = None\n",
    "        self.gini_coeff = None\n",
    "\n",
    "    # Big-O(l*n)\n",
    "    def gini_index(self, groups_and_weights, labels):\n",
    "        groups = groups_and_weights[0]\n",
    "        weights = groups_and_weights[1]\n",
    "\n",
    "        n = float(sum([(len(group)) for group in groups]))\n",
    "        gini = 0.0\n",
    "\n",
    "        for wt_idx, group in enumerate(groups):\n",
    "            size = float(len(group))\n",
    "            wt_of_group = sum([i for i in weights[wt_idx]])\n",
    "            if size == 0:\n",
    "                continue\n",
    "            score = 0.0\n",
    "            for label in labels:\n",
    "                p = 0.0\n",
    "                # Count the proportion of label in the given group\n",
    "                for i, row in enumerate(group):\n",
    "                    if int(row[-1]) == int(label):\n",
    "                        p += weights[wt_idx][i] * 1/wt_of_group\n",
    "                score += p * p\n",
    "            gini += (1.0 - score) * wt_of_group\n",
    "        return gini\n",
    "    \n",
    "    # Big-O(n)\n",
    "    def create_split(self, dataset, index, value, weight):\n",
    "        left = []\n",
    "        leftweight = []\n",
    "        right = []\n",
    "        rightweight = []\n",
    "        for i, point in enumerate(dataset):\n",
    "            if point[index] > value:\n",
    "                right.append(point)\n",
    "                rightweight.append(weight[i])\n",
    "            else:\n",
    "                left.append(point)\n",
    "                leftweight.append(weight[i])\n",
    "        return ((left, right), (leftweight, rightweight))\n",
    "    \n",
    "    def fit(self, dataset, weights = None):\n",
    "        if weights is None:\n",
    "            weights = np.ones(len(dataset))/len(dataset)\n",
    "        best_g, best_index, best_value = 9999, 9999, 9999\n",
    "        labels = np.unique(dataset[:,2])\n",
    "        for feature_index in range(len(dataset[0])-1):\n",
    "            for row in dataset:\n",
    "                left_right_split = self.create_split(dataset, feature_index, row[feature_index], weights)\n",
    "                g = (self.gini_index(left_right_split, labels))\n",
    "                if best_g > g:\n",
    "                    best_split = left_right_split\n",
    "                    best_index = feature_index\n",
    "                    best_value = row[feature_index]\n",
    "                    best_g = g\n",
    "        left_best_split = best_split[0][0]\n",
    "        right_best_split = best_split[0][1]\n",
    "        print((left_best_split[-1]))\n",
    "        \n",
    "        # TODO add functionalty to add the sign to self\n",
    "        # if x > y then positive or x < y then positive\n",
    "        self.index = best_index\n",
    "        self.threshold = best_value\n",
    "        self.gini_coeff = best_g\n",
    "        return best_g, best_index, best_value\n",
    "    \n",
    "    def predict(self, X, has_labels = True, weight = None):\n",
    "        if weight is None:\n",
    "            weights = np.ones(len(X))/len(X)\n",
    "        if has_labels:\n",
    "            x = XY[:,:-1]\n",
    "        print(x[:, self.index] > self.threshold)"
   ]
  },
  {
   "cell_type": "code",
   "execution_count": 225,
   "metadata": {},
   "outputs": [
    {
     "name": "stdout",
     "output_type": "stream",
     "text": [
      "[5.1 2.5 1. ]\n"
     ]
    },
    {
     "data": {
      "text/plain": [
       "(0.19567827130852233, 0, 5.4)"
      ]
     },
     "execution_count": 225,
     "metadata": {},
     "output_type": "execute_result"
    }
   ],
   "source": [
    "classifier = DecisionTree()\n",
    "classifier.fit(XY)"
   ]
  },
  {
   "cell_type": "code",
   "execution_count": 198,
   "metadata": {},
   "outputs": [
    {
     "name": "stdout",
     "output_type": "stream",
     "text": [
      "[False False False False False False False False False False False False\n",
      " False False  True  True False False  True False False False False False\n",
      " False False False False False False False False False  True False False\n",
      "  True False False False False False False False False False False False\n",
      " False False  True  True  True  True  True  True  True False  True False\n",
      " False  True  True  True  True  True  True  True  True  True  True  True\n",
      "  True  True  True  True  True  True  True  True  True  True  True  True\n",
      " False  True  True  True  True  True  True  True  True False  True  True\n",
      "  True  True False  True]\n"
     ]
    }
   ],
   "source": [
    "classifier.predict(XY)"
   ]
  },
  {
   "cell_type": "code",
   "execution_count": 189,
   "metadata": {},
   "outputs": [
    {
     "data": {
      "text/plain": [
       "array([[5.1, 3.5],\n",
       "       [4.9, 3. ],\n",
       "       [4.7, 3.2],\n",
       "       [4.6, 3.1],\n",
       "       [5. , 3.6],\n",
       "       [5.4, 3.9],\n",
       "       [4.6, 3.4],\n",
       "       [5. , 3.4],\n",
       "       [4.4, 2.9],\n",
       "       [4.9, 3.1],\n",
       "       [5.4, 3.7],\n",
       "       [4.8, 3.4],\n",
       "       [4.8, 3. ],\n",
       "       [4.3, 3. ],\n",
       "       [5.8, 4. ],\n",
       "       [5.7, 4.4],\n",
       "       [5.4, 3.9],\n",
       "       [5.1, 3.5],\n",
       "       [5.7, 3.8],\n",
       "       [5.1, 3.8],\n",
       "       [5.4, 3.4],\n",
       "       [5.1, 3.7],\n",
       "       [4.6, 3.6],\n",
       "       [5.1, 3.3],\n",
       "       [4.8, 3.4],\n",
       "       [5. , 3. ],\n",
       "       [5. , 3.4],\n",
       "       [5.2, 3.5],\n",
       "       [5.2, 3.4],\n",
       "       [4.7, 3.2],\n",
       "       [4.8, 3.1],\n",
       "       [5.4, 3.4],\n",
       "       [5.2, 4.1],\n",
       "       [5.5, 4.2],\n",
       "       [4.9, 3.1],\n",
       "       [5. , 3.2],\n",
       "       [5.5, 3.5],\n",
       "       [4.9, 3.1],\n",
       "       [4.4, 3. ],\n",
       "       [5.1, 3.4],\n",
       "       [5. , 3.5],\n",
       "       [4.5, 2.3],\n",
       "       [4.4, 3.2],\n",
       "       [5. , 3.5],\n",
       "       [5.1, 3.8],\n",
       "       [4.8, 3. ],\n",
       "       [5.1, 3.8],\n",
       "       [4.6, 3.2],\n",
       "       [5.3, 3.7],\n",
       "       [5. , 3.3],\n",
       "       [7. , 3.2],\n",
       "       [6.4, 3.2],\n",
       "       [6.9, 3.1],\n",
       "       [5.5, 2.3],\n",
       "       [6.5, 2.8],\n",
       "       [5.7, 2.8],\n",
       "       [6.3, 3.3],\n",
       "       [4.9, 2.4],\n",
       "       [6.6, 2.9],\n",
       "       [5.2, 2.7],\n",
       "       [5. , 2. ],\n",
       "       [5.9, 3. ],\n",
       "       [6. , 2.2],\n",
       "       [6.1, 2.9],\n",
       "       [5.6, 2.9],\n",
       "       [6.7, 3.1],\n",
       "       [5.6, 3. ],\n",
       "       [5.8, 2.7],\n",
       "       [6.2, 2.2],\n",
       "       [5.6, 2.5],\n",
       "       [5.9, 3.2],\n",
       "       [6.1, 2.8],\n",
       "       [6.3, 2.5],\n",
       "       [6.1, 2.8],\n",
       "       [6.4, 2.9],\n",
       "       [6.6, 3. ],\n",
       "       [6.8, 2.8],\n",
       "       [6.7, 3. ],\n",
       "       [6. , 2.9],\n",
       "       [5.7, 2.6],\n",
       "       [5.5, 2.4],\n",
       "       [5.5, 2.4],\n",
       "       [5.8, 2.7],\n",
       "       [6. , 2.7],\n",
       "       [5.4, 3. ],\n",
       "       [6. , 3.4],\n",
       "       [6.7, 3.1],\n",
       "       [6.3, 2.3],\n",
       "       [5.6, 3. ],\n",
       "       [5.5, 2.5],\n",
       "       [5.5, 2.6],\n",
       "       [6.1, 3. ],\n",
       "       [5.8, 2.6],\n",
       "       [5. , 2.3],\n",
       "       [5.6, 2.7],\n",
       "       [5.7, 3. ],\n",
       "       [5.7, 2.9],\n",
       "       [6.2, 2.9],\n",
       "       [5.1, 2.5],\n",
       "       [5.7, 2.8]])"
      ]
     },
     "execution_count": 189,
     "metadata": {},
     "output_type": "execute_result"
    }
   ],
   "source": []
  },
  {
   "cell_type": "code",
   "execution_count": null,
   "metadata": {},
   "outputs": [],
   "source": []
  }
 ],
 "metadata": {
  "kernelspec": {
   "display_name": "Python 3",
   "language": "python",
   "name": "python3"
  },
  "language_info": {
   "codemirror_mode": {
    "name": "ipython",
    "version": 3
   },
   "file_extension": ".py",
   "mimetype": "text/x-python",
   "name": "python",
   "nbconvert_exporter": "python",
   "pygments_lexer": "ipython3",
   "version": "3.6.4"
  }
 },
 "nbformat": 4,
 "nbformat_minor": 2
}
