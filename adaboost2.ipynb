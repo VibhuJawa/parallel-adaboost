{
 "cells": [
  {
   "cell_type": "code",
   "execution_count": 37,
   "metadata": {},
   "outputs": [
    {
     "name": "stdout",
     "output_type": "stream",
     "text": [
      "Populating the interactive namespace from numpy and matplotlib\n"
     ]
    },
    {
     "name": "stderr",
     "output_type": "stream",
     "text": [
      "/home/praateek/miniconda3/envs/twitter/lib/python3.6/site-packages/IPython/core/magics/pylab.py:160: UserWarning: pylab import has clobbered these variables: ['indices', 'sign']\n",
      "`%matplotlib` prevents importing * from pylab and numpy\n",
      "  \"\\n`%matplotlib` prevents importing * from pylab and numpy\"\n"
     ]
    }
   ],
   "source": [
    "%pylab inline\n",
    "import numpy as np\n",
    "\n",
    "num_egs = 5\n",
    "num_features = 1\n",
    "num_classifiers = 3\n",
    "\n",
    "X = np.zeros((num_egs,num_features))\n",
    "labels = np.zeros(num_egs)\n",
    "X[0][0]=10; labels[0] = 1;\n",
    "X[1][0]=30; labels[1] = 1;\n",
    "X[2][0]=40; labels[2] = -1;\n",
    "X[3][0]=60; labels[3] = -1;\n",
    "X[4][0]=90; labels[4] = 1;\n",
    "\n",
    "# X[0][0]=10; labels[0] = 1;\n",
    "# X[1][0]=20; labels[1] = -1;\n",
    "# X[2][0]=30; labels[2] = 1;\n"
   ]
  },
  {
   "cell_type": "code",
   "execution_count": 38,
   "metadata": {},
   "outputs": [],
   "source": [
    "D = np.ones(num_egs) / num_egs\n",
    "best_alphas = np.zeros(num_classifiers)\n",
    "best_indexes = np.zeros(num_classifiers)\n",
    "best_splits = np.zeros(num_classifiers)\n",
    "best_signs = [\"\" for i in range(num_classifiers)]"
   ]
  },
  {
   "cell_type": "code",
   "execution_count": 39,
   "metadata": {},
   "outputs": [],
   "source": [
    "def find_error(X, y, indices, weights, feature_index, feature_value):\n",
    "    loss = 0\n",
    "    for index in indices:\n",
    "        sign = \"lt\"\n",
    "        if X[index][feature_index] <= feature_value:\n",
    "            if y[index] != -1:\n",
    "                loss += D[index]\n",
    "        else:\n",
    "            if y[index] != 1:\n",
    "                loss += D[index]\n",
    "    if loss > 0.5:\n",
    "        sign = \"gt\"\n",
    "        loss = 1 - loss\n",
    "    return loss, sign\n",
    "\n",
    "def update_D(X, y, weight, alpha, feature_index, feature_value, best_sign):\n",
    "    # Normalization constant\n",
    "    Z = 0\n",
    "    for i in range(len(X)):\n",
    "        if best_sign == \"lt\":\n",
    "            if X[i][feature_index] <= feature_value:\n",
    "                weight[i] *= np.exp(alpha * y[i])\n",
    "                Z += weight[i]\n",
    "            else:\n",
    "                weight[i] *= np.exp(-alpha * y[i])\n",
    "                Z += weight[i]\n",
    "        elif best_sign == \"gt\":\n",
    "            if X[i][feature_index] >= feature_value:\n",
    "                weight[i] *= np.exp(alpha * y[i])\n",
    "                Z += weight[i]\n",
    "            else:\n",
    "                weight[i] *= np.exp(-alpha * y[i])\n",
    "                Z += weight[i]\n",
    "            \n",
    "    weight = weight/Z\n",
    "    return weight\n",
    "def predict(X, alphas, best_indices, best_splits, best_signs):\n",
    "    predicted = np.zeros(X.shape[0])\n",
    "    for num, eg in enumerate(X):\n",
    "        a = 0\n",
    "        for i in range(len(alphas)):\n",
    "            if best_signs[i] == \"lt\":\n",
    "                if eg[int(best_indices[i])] <= best_splits[i]:\n",
    "                    a += alphas[i] * -1\n",
    "                else:\n",
    "                    a += alphas[i]\n",
    "            elif best_signs[i] == 'gt':\n",
    "                if eg[int(best_indices[i])] >= best_splits[i]:\n",
    "                    a += alphas[i] * -1\n",
    "                else:\n",
    "                    a += alphas[i]\n",
    "        predicted[num] = np.sign(a)\n",
    "    return predicted"
   ]
  },
  {
   "cell_type": "code",
   "execution_count": 40,
   "metadata": {
    "scrolled": true
   },
   "outputs": [
    {
     "name": "stdout",
     "output_type": "stream",
     "text": [
      "t = 0 : threshold : 35.0 : feature : 0 : loss 0.19999999999999996  : alpha = 0.6931471805599454 : sign : gt : D :  [0.125 0.125 0.125 0.125 0.5  ]\n",
      "t = 1 : threshold : 75.0 : feature : 0 : loss 0.24999999999999997  : alpha = 0.5493061443340549 : sign : lt : D :  [0.25       0.25       0.08333333 0.08333333 0.33333333]\n",
      "t = 2 : threshold : 35.0 : feature : 0 : loss 0.33333333333333315  : alpha = 0.3465735902799731 : sign : gt : D :  [0.1875 0.1875 0.0625 0.0625 0.5   ]\n"
     ]
    }
   ],
   "source": [
    "for t in range(num_classifiers):\n",
    "    best_error = float('inf')\n",
    "    for feature in range(num_features):\n",
    "        indices = np.argsort( X[:,feature] );\n",
    "        X_temp = X[indices]\n",
    "        # TODO add unique values here\n",
    "        for eg in range(num_egs-1):\n",
    "            mid_point = (X_temp[eg, feature] + X_temp[eg+1, feature])/2\n",
    "            loss, sign = find_error(X, labels, indices, D, feature, mid_point)\n",
    "            if best_error > loss:\n",
    "                best_error = loss\n",
    "                best_feature = feature\n",
    "                best_value = mid_point\n",
    "                best_sign = sign\n",
    "                \n",
    "    alpha = np.log((1 - best_error)/best_error) * 0.5\n",
    "    \n",
    "    best_alphas[t] = alpha\n",
    "    best_indexes[t] = best_feature\n",
    "    best_splits[t] = best_value\n",
    "    best_signs[t] = best_sign\n",
    "    \n",
    "    D = update_D(X, labels, D, alpha, best_feature, best_value, best_sign)\n",
    "    \n",
    "    print(\"t = {} : threshold : {} : feature : {} : loss {}  : alpha = {} : sign : {} : D : \".format(t,best_value, best_feature, best_error,alpha, best_sign), D)\n",
    "\n"
   ]
  },
  {
   "cell_type": "code",
   "execution_count": 41,
   "metadata": {},
   "outputs": [
    {
     "data": {
      "text/plain": [
       "array([ 1.,  1., -1., -1., -1.])"
      ]
     },
     "execution_count": 41,
     "metadata": {},
     "output_type": "execute_result"
    }
   ],
   "source": [
    "predict(X, best_alphas, best_indexes, best_splits, best_signs)"
   ]
  },
  {
   "cell_type": "code",
   "execution_count": null,
   "metadata": {},
   "outputs": [],
   "source": [
    "        indices = np.argsort( X[:,feature] );\n",
    "        X_temp = X[indices]\n",
    "indices"
   ]
  },
  {
   "cell_type": "code",
   "execution_count": null,
   "metadata": {},
   "outputs": [],
   "source": [
    "scatter(X[:],np.zeros(num_egs), c = labels)"
   ]
  },
  {
   "cell_type": "code",
   "execution_count": 52,
   "metadata": {},
   "outputs": [
    {
     "data": {
      "text/plain": [
       "AdaBoostClassifier(algorithm='SAMME.R', base_estimator=None,\n",
       "          learning_rate=1.0, n_estimators=1, random_state=None)"
      ]
     },
     "execution_count": 52,
     "metadata": {},
     "output_type": "execute_result"
    }
   ],
   "source": [
    "import sklearn \n",
    "clf = sklearn.ensemble.AdaBoostClassifier(n_estimators=1)\n",
    "clf.fit(X,labels)"
   ]
  },
  {
   "cell_type": "code",
   "execution_count": 53,
   "metadata": {},
   "outputs": [
    {
     "data": {
      "text/plain": [
       "array([ 1.,  1., -1., -1., -1.])"
      ]
     },
     "execution_count": 53,
     "metadata": {},
     "output_type": "execute_result"
    }
   ],
   "source": [
    "clf.predict(X)"
   ]
  },
  {
   "cell_type": "code",
   "execution_count": 56,
   "metadata": {},
   "outputs": [
    {
     "data": {
      "text/plain": [
       "[DecisionTreeClassifier(class_weight=None, criterion='gini', max_depth=1,\n",
       "             max_features=None, max_leaf_nodes=None,\n",
       "             min_impurity_decrease=0.0, min_impurity_split=None,\n",
       "             min_samples_leaf=1, min_samples_split=2,\n",
       "             min_weight_fraction_leaf=0.0, presort=False,\n",
       "             random_state=439395978, splitter='best')]"
      ]
     },
     "execution_count": 56,
     "metadata": {},
     "output_type": "execute_result"
    }
   ],
   "source": [
    "clf.estimators_"
   ]
  },
  {
   "cell_type": "code",
   "execution_count": null,
   "metadata": {},
   "outputs": [],
   "source": []
  }
 ],
 "metadata": {
  "kernelspec": {
   "display_name": "Python 3",
   "language": "python",
   "name": "python3"
  },
  "language_info": {
   "codemirror_mode": {
    "name": "ipython",
    "version": 3
   },
   "file_extension": ".py",
   "mimetype": "text/x-python",
   "name": "python",
   "nbconvert_exporter": "python",
   "pygments_lexer": "ipython3",
   "version": "3.6.4"
  }
 },
 "nbformat": 4,
 "nbformat_minor": 2
}
