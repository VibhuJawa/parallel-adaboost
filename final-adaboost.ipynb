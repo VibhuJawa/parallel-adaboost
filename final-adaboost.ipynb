{
 "cells": [
  {
   "cell_type": "code",
   "execution_count": 2,
   "metadata": {},
   "outputs": [
    {
     "name": "stdout",
     "output_type": "stream",
     "text": [
      "Populating the interactive namespace from numpy and matplotlib\n"
     ]
    }
   ],
   "source": [
    "%pylab inline\n",
    "import numpy as np\n",
    "\n",
    "num_egs = 5\n",
    "num_features = 2\n",
    "num_classifiers = 3\n",
    "\n",
    "X = np.zeros((num_egs,num_features))\n",
    "labels = np.zeros(num_egs)\n",
    "X[0][0]=10; labels[0] = 1;\n",
    "X[1][0]=30; labels[1] = 1;\n",
    "X[2][0]=40; labels[2] = -1;\n",
    "X[3][0]=60; labels[3] = -1;\n",
    "X[4][0]=90; labels[4] = 1;\n",
    "\n",
    "X[0][1]=40; \n",
    "X[1][1]=50; \n",
    "X[2][1]=40; \n",
    "X[3][1]=50; \n",
    "X[4][1]=40; \n",
    "\n",
    "# X[0][0]=10; labels[0] = 1;\n",
    "# X[1][0]=20; labels[1] = -1;\n",
    "# X[2][0]=30; labels[2] = 1;\n"
   ]
  },
  {
   "cell_type": "code",
   "execution_count": 7,
   "metadata": {},
   "outputs": [],
   "source": [
    "class DecisionStump():\n",
    "    def __init__(self, criteria='gini'):\n",
    "        self.criteria = criteria\n",
    "    def fit(X, y):\n",
    "        num_egs = len(X)\n",
    "        num_features = len(X[0])\n",
    "        # Let's sort each feature by value initially\n",
    "        # This way we don't have to sort every time\n",
    "        for feature in range(num_features):\n",
    "            indices = np.argsort( X[:,feature] );\n",
    "            X_temp = X[indices]\n",
    "            \n",
    "\n",
    "class AdaBoost():\n",
    "    def __init__(self, num_classifiers='3'):\n",
    "        self.num_classifiers = num_classifiers\n",
    "    \n",
    "    def get_unique_feature_vals(self,X):\n",
    "        num_egs = len(X)\n",
    "        num_features = len(X[0])\n",
    "        \n",
    "        # Initialize a list of sets, there should be as many sets as number of features\n",
    "        unique_feature_vals = [set() for i in range(num_features)]\n",
    "        for i in range(num_egs):\n",
    "            for j in range(num_features):\n",
    "                unique_feature_vals[j].add(X[i][j])\n",
    "        return unique_feature_vals\n",
    "    \n",
    "#     def fit(X, y):\n",
    "        # Sort the data here\n",
    "        \n",
    "        \n",
    "#         for feature in \n",
    "#         for t in range(self.num_classifiers):\n",
    "#             print"
   ]
  },
  {
   "cell_type": "code",
   "execution_count": 8,
   "metadata": {},
   "outputs": [
    {
     "data": {
      "text/plain": [
       "[{10.0, 30.0, 40.0, 60.0, 90.0}, {40.0, 50.0}]"
      ]
     },
     "execution_count": 8,
     "metadata": {},
     "output_type": "execute_result"
    }
   ],
   "source": [
    "clf = AdaBoost()\n",
    "clf.get_unique_feature_vals(X)"
   ]
  },
  {
   "cell_type": "code",
   "execution_count": null,
   "metadata": {},
   "outputs": [],
   "source": []
  }
 ],
 "metadata": {
  "kernelspec": {
   "display_name": "Python 3",
   "language": "python",
   "name": "python3"
  },
  "language_info": {
   "codemirror_mode": {
    "name": "ipython",
    "version": 3
   },
   "file_extension": ".py",
   "mimetype": "text/x-python",
   "name": "python",
   "nbconvert_exporter": "python",
   "pygments_lexer": "ipython3",
   "version": "3.6.4"
  }
 },
 "nbformat": 4,
 "nbformat_minor": 2
}
